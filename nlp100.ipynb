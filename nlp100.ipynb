{
  "nbformat": 4,
  "nbformat_minor": 0,
  "metadata": {
    "colab": {
      "name": "nlp100.ipynb",
      "provenance": [],
      "collapsed_sections": [],
      "authorship_tag": "ABX9TyNAdsLMDJMgnux5yZyJvVhE",
      "include_colab_link": true
    },
    "kernelspec": {
      "name": "python3",
      "display_name": "Python 3"
    },
    "language_info": {
      "name": "python"
    }
  },
  "cells": [
    {
      "cell_type": "markdown",
      "metadata": {
        "id": "view-in-github",
        "colab_type": "text"
      },
      "source": [
        "<a href=\"https://colab.research.google.com/github/Young-Dong/python/blob/master/nlp100.ipynb\" target=\"_parent\"><img src=\"https://colab.research.google.com/assets/colab-badge.svg\" alt=\"Open In Colab\"/></a>"
      ]
    },
    {
      "cell_type": "markdown",
      "metadata": {
        "id": "OeBl9vYTbqT3"
      },
      "source": [
        "第1章: 準備運動"
      ]
    },
    {
      "cell_type": "markdown",
      "metadata": {
        "id": "0PlL5mMG83qw"
      },
      "source": [
        "**00. 文字列の逆順<br>**\n",
        "文字列”stressed”の文字を逆に（末尾から先頭に向かって）並べた文字列を得よ．"
      ]
    },
    {
      "cell_type": "code",
      "metadata": {
        "colab": {
          "base_uri": "https://localhost:8080/",
          "height": 35
        },
        "id": "F88r6kTMbv3-",
        "outputId": "f2815b94-f117-4ec2-9567-0e2f0231d86c"
      },
      "source": [
        "string = \"stressed\"\n",
        "new_string = \"\"\n",
        "for i in range(len(string)):\n",
        "  new_string = new_string + string[-1-i]\n",
        "new_string"
      ],
      "execution_count": null,
      "outputs": [
        {
          "output_type": "execute_result",
          "data": {
            "application/vnd.google.colaboratory.intrinsic+json": {
              "type": "string"
            },
            "text/plain": [
              "'desserts'"
            ]
          },
          "metadata": {},
          "execution_count": 39
        }
      ]
    },
    {
      "cell_type": "markdown",
      "metadata": {
        "id": "cWBg15HU9Q-H"
      },
      "source": [
        "**01. 「パタトクカシーー」<br>**\n",
        "「パタトクカシーー」という文字列の1,3,5,7文字目を取り出して連結した文字列を得よ．"
      ]
    },
    {
      "cell_type": "code",
      "metadata": {
        "colab": {
          "base_uri": "https://localhost:8080/",
          "height": 35
        },
        "id": "2aTA_ssRdQnF",
        "outputId": "15002acc-87fa-4e4d-cba0-94c4a9e3fb58"
      },
      "source": [
        "string = \"パタトクカシーー\"\n",
        "new_string = \"\"\n",
        "for i in range(len(string)):\n",
        "  if i%2 == 0:\n",
        "    new_string = new_string + string[i]\n",
        "new_string"
      ],
      "execution_count": null,
      "outputs": [
        {
          "output_type": "execute_result",
          "data": {
            "application/vnd.google.colaboratory.intrinsic+json": {
              "type": "string"
            },
            "text/plain": [
              "'パトカー'"
            ]
          },
          "metadata": {},
          "execution_count": 40
        }
      ]
    },
    {
      "cell_type": "markdown",
      "metadata": {
        "id": "MzVusOgJ-mwK"
      },
      "source": [
        "**02. 「パトカー」＋「タクシー」＝「パタトクカシーー」**<br>\n",
        "「パトカー」＋「タクシー」の文字を先頭から交互に連結して文字列「パタトクカシーー」を得よ．"
      ]
    },
    {
      "cell_type": "code",
      "metadata": {
        "colab": {
          "base_uri": "https://localhost:8080/",
          "height": 35
        },
        "id": "84b66FVkdtC8",
        "outputId": "870e87db-277c-4cdb-fd43-0f7c2ee9f887"
      },
      "source": [
        "string_1 = \"パトカー\"\n",
        "string_2 = \"タクシー\"\n",
        "new_string = \"\"\n",
        "for i in range(max(len(string_1),len(string_2))):\n",
        "  new_string = new_string + string_1[i] + string_2[i]\n",
        "new_string"
      ],
      "execution_count": null,
      "outputs": [
        {
          "output_type": "execute_result",
          "data": {
            "application/vnd.google.colaboratory.intrinsic+json": {
              "type": "string"
            },
            "text/plain": [
              "'パタトクカシーー'"
            ]
          },
          "metadata": {},
          "execution_count": 41
        }
      ]
    },
    {
      "cell_type": "markdown",
      "metadata": {
        "id": "SyU7LfWa9l0g"
      },
      "source": [
        "**03. 円周率<br>**\n",
        "“Now I need a drink, alcoholic of course, after the heavy lectures involving quantum mechanics.”という文を単語に分解し，各単語の（アルファベットの）文字数を先頭から出現順に並べたリストを作成せよ．"
      ]
    },
    {
      "cell_type": "code",
      "metadata": {
        "colab": {
          "base_uri": "https://localhost:8080/"
        },
        "id": "Ql6RvFeuezsH",
        "outputId": "53eb5c65-2d7c-46de-e119-5ccc5e0d3e18"
      },
      "source": [
        "import re\n",
        "sentence = \"Now I need a drink, alcoholic of course, after the heavy lectures involving quantum mechanics.\"\n",
        "print(re.split(' |, ', sentence))\n",
        "sentence_len = [len(i) for i in re.split(' |, ', sentence)]\n",
        "sentence_len"
      ],
      "execution_count": null,
      "outputs": [
        {
          "output_type": "stream",
          "name": "stdout",
          "text": [
            "['Now', 'I', 'need', 'a', 'drink', 'alcoholic', 'of', 'course', 'after', 'the', 'heavy', 'lectures', 'involving', 'quantum', 'mechanics.']\n"
          ]
        },
        {
          "output_type": "execute_result",
          "data": {
            "text/plain": [
              "[3, 1, 4, 1, 5, 9, 2, 6, 5, 3, 5, 8, 9, 7, 10]"
            ]
          },
          "metadata": {},
          "execution_count": 15
        }
      ]
    },
    {
      "cell_type": "markdown",
      "metadata": {
        "id": "7BKm9tTh-XWO"
      },
      "source": [
        "**04. 元素記号Permalink**<br>\n",
        "“Hi He Lied Because Boron Could Not Oxidize Fluorine. New Nations Might Also Sign Peace Security Clause. Arthur King Can.”という文を単語に分解し，1, 5, 6, 7, 8, 9, 15, 16, 19番目の単語は先頭の1文字，それ以外の単語は先頭の2文字を取り出し，取り出した文字列から単語の位置（先頭から何番目の単語か）への連想配列（辞書型もしくはマップ型）を作成せよ．"
      ]
    },
    {
      "cell_type": "code",
      "metadata": {
        "colab": {
          "base_uri": "https://localhost:8080/"
        },
        "id": "ndC_2DMqm-MX",
        "outputId": "73172479-a2ac-43a8-f208-9656b9f9710b"
      },
      "source": [
        "import re\n",
        "sentence = \"Hi He Lied Because Boron Could Not Oxidize Fluorine. New Nations Might Also Sign Peace Security Clause. Arthur King Can.\"\n",
        "sentence_splited = re.split(' ', sentence)\n",
        "print(sentence_splited, '\\n', len(sentence_splited))\n",
        "target_no = [1, 5, 6, 7, 8, 9, 15, 16, 19]\n",
        "sentence_dic = {}\n",
        "for i in range(len(sentence_splited)):\n",
        "  if i+1 in target_no:\n",
        "    tmp = {i+1: sentence_splited[i][0:2]}\n",
        "  else:\n",
        "    tmp = {i+1: sentence_splited[i][0]}\n",
        "  sentence_dic.update(tmp)\n",
        "sentence_dic"
      ],
      "execution_count": null,
      "outputs": [
        {
          "output_type": "stream",
          "name": "stdout",
          "text": [
            "['Hi', 'He', 'Lied', 'Because', 'Boron', 'Could', 'Not', 'Oxidize', 'Fluorine.', 'New', 'Nations', 'Might', 'Also', 'Sign', 'Peace', 'Security', 'Clause.', 'Arthur', 'King', 'Can.'] \n",
            " 20\n"
          ]
        },
        {
          "output_type": "execute_result",
          "data": {
            "text/plain": [
              "{1: 'Hi',\n",
              " 2: 'H',\n",
              " 3: 'L',\n",
              " 4: 'B',\n",
              " 5: 'Bo',\n",
              " 6: 'Co',\n",
              " 7: 'No',\n",
              " 8: 'Ox',\n",
              " 9: 'Fl',\n",
              " 10: 'N',\n",
              " 11: 'N',\n",
              " 12: 'M',\n",
              " 13: 'A',\n",
              " 14: 'S',\n",
              " 15: 'Pe',\n",
              " 16: 'Se',\n",
              " 17: 'C',\n",
              " 18: 'A',\n",
              " 19: 'Ki',\n",
              " 20: 'C'}"
            ]
          },
          "metadata": {},
          "execution_count": 43
        }
      ]
    },
    {
      "cell_type": "markdown",
      "metadata": {
        "id": "ASXmhxYNgW-6"
      },
      "source": [
        "**05. n-gram**<br>\n",
        "与えられたシーケンス（文字列やリストなど）からn-gramを作る関数を作成せよ．この関数を用い，”I am an NLPer”という文から単語bi-gram，文字bi-gramを得よ．"
      ]
    },
    {
      "cell_type": "code",
      "metadata": {
        "colab": {
          "base_uri": "https://localhost:8080/"
        },
        "id": "c04ApK4Rqp6C",
        "outputId": "33c27a19-7e4b-451a-fe34-4d9ae83fbba3"
      },
      "source": [
        "def n_gram(sentence, i):\n",
        "  output = []\n",
        "  for j in range(len(sentence) - i + 1):\n",
        "    output.append(sentence[j:j+i])\n",
        "  return output\n",
        "\n",
        "def n_gram_split(sentence, i):\n",
        "  sentence_split = sentence.split()\n",
        "  output = []\n",
        "  for j in range(len(sentence_split) - i + 1):\n",
        "    output.append(sentence_split[j:j+i])\n",
        "  return output\n",
        "\n",
        "sentence = 'I am an NLPer'\n",
        "print(n_gram(sentence, 2), '\\n', n_gram_split(sentence, 2))"
      ],
      "execution_count": null,
      "outputs": [
        {
          "output_type": "stream",
          "name": "stdout",
          "text": [
            "['I ', ' a', 'am', 'm ', ' a', 'an', 'n ', ' N', 'NL', 'LP', 'Pe', 'er'] \n",
            " [['I', 'am'], ['am', 'an'], ['an', 'NLPer']]\n"
          ]
        }
      ]
    },
    {
      "cell_type": "markdown",
      "metadata": {
        "id": "HOdZynfjgXBo"
      },
      "source": [
        "**06. 集合**<br>\n",
        "“paraparaparadise”と”paragraph”に含まれる文字bi-gramの集合を，それぞれ, XとYとして求め，XとYの和集合，積集合，差集合を求めよ．さらに，’se’というbi-gramがXおよびYに含まれるかどうかを調べよ．"
      ]
    },
    {
      "cell_type": "code",
      "metadata": {
        "colab": {
          "base_uri": "https://localhost:8080/"
        },
        "id": "M4lm-E8g3FOO",
        "outputId": "0df07a4e-a751-435b-8bc7-38f5bfd02078"
      },
      "source": [
        "sentence_1 = 'paraparaparadise'\n",
        "sentence_2 = 'paragraph'\n",
        "\n",
        "X = set(n_gram(sentence_1, 2))\n",
        "Y = set(n_gram(sentence_2, 2))\n",
        "print('X:', X, '\\n', 'Y:', Y)\n",
        "print('和集合:', X.union(Y))\n",
        "print('積集合:', X&Y)\n",
        "print('差集合:', X.difference(Y))\n",
        "print('se in X:', 'se' in X)\n",
        "print('se in Y:', 'se' in Y)"
      ],
      "execution_count": null,
      "outputs": [
        {
          "output_type": "stream",
          "name": "stdout",
          "text": [
            "X: {'se', 'ap', 'is', 'ar', 'di', 'pa', 'ra', 'ad'} \n",
            " Y: {'ph', 'ap', 'gr', 'ar', 'ag', 'pa', 'ra'}\n",
            "和集合: {'se', 'ph', 'ap', 'is', 'ar', 'di', 'gr', 'ag', 'pa', 'ra', 'ad'}\n",
            "積集合: {'pa', 'ar', 'ra', 'ap'}\n",
            "差集合: {'di', 'se', 'ad', 'is'}\n",
            "se in X: True\n",
            "se in Y: False\n"
          ]
        }
      ]
    },
    {
      "cell_type": "markdown",
      "metadata": {
        "id": "_erpBlyPgXEX"
      },
      "source": [
        "**07. テンプレートによる文生成**<br>\n",
        "引数x, y, zを受け取り「x時のyはz」という文字列を返す関数を実装せよ．さらに，x=12, y=”気温”, z=22.4として，実行結果を確認せよ．"
      ]
    },
    {
      "cell_type": "code",
      "metadata": {
        "colab": {
          "base_uri": "https://localhost:8080/",
          "height": 35
        },
        "id": "6euxv-B5gJSw",
        "outputId": "20d1105a-6a44-45dd-b60a-58fd6def80b0"
      },
      "source": [
        "def temp(x, y, z):\n",
        "  a = str(x) + '時の' + y + 'は' + str(z)\n",
        "  return a\n",
        "temp(12, '気温', 22.4)"
      ],
      "execution_count": null,
      "outputs": [
        {
          "output_type": "execute_result",
          "data": {
            "application/vnd.google.colaboratory.intrinsic+json": {
              "type": "string"
            },
            "text/plain": [
              "'12時の気温は22.4'"
            ]
          },
          "metadata": {},
          "execution_count": 90
        }
      ]
    },
    {
      "cell_type": "markdown",
      "metadata": {
        "id": "yu2BqIV8gXHD"
      },
      "source": [
        "**08. 暗号文**<br>\n",
        "与えられた文字列の各文字を，以下の仕様で変換する関数cipherを実装せよ．<br>\n",
        "\n",
        "・英小文字ならば(219 - 文字コード)の文字に置換<br>\n",
        "・その他の文字はそのまま出力<br>\n",
        "この関数を用い，英語のメッセージを暗号化・復号化せよ．"
      ]
    },
    {
      "cell_type": "code",
      "metadata": {
        "colab": {
          "base_uri": "https://localhost:8080/",
          "height": 35
        },
        "id": "27fD0gC4he4o",
        "outputId": "374048e7-b861-46e6-efb8-0e35294d124f"
      },
      "source": [
        "def cipher(x):\n",
        "  y = ''\n",
        "  for i in range(len(x)):\n",
        "    if x[i].islower():\n",
        "      y = y + chr(219-ord(x[i]))\n",
        "    else:\n",
        "      y = y + x[i]\n",
        "  return y\n",
        "cipher('Hello World!')\n",
        "# cipher('Hvool Wliow!')"
      ],
      "execution_count": null,
      "outputs": [
        {
          "output_type": "execute_result",
          "data": {
            "application/vnd.google.colaboratory.intrinsic+json": {
              "type": "string"
            },
            "text/plain": [
              "'Hvool Wliow!'"
            ]
          },
          "metadata": {},
          "execution_count": 101
        }
      ]
    },
    {
      "cell_type": "markdown",
      "metadata": {
        "id": "AOSfDyEQgXLR"
      },
      "source": [
        "**09. Typoglycemia**<br>\n",
        "スペースで区切られた単語列に対して，各単語の先頭と末尾の文字は残し，それ以外の文字の順序をランダムに並び替えるプログラムを作成せよ．ただし，長さが４以下の単語は並び替えないこととする．適当な英語の文（例えば”I couldn’t believe that I could actually understand what I was reading : the phenomenal power of the human mind .”）を与え，その実行結果を確認せよ．"
      ]
    },
    {
      "cell_type": "code",
      "metadata": {
        "id": "PkjLXLyThuhx"
      },
      "source": [
        "import random\n",
        "def Typoglycemia(x):\n",
        "  x_split = x.split()\n",
        "  y = ''\n",
        "  for word_i in range(len(x_split)):\n",
        "    if len(x_split[word_i]) > 4:\n",
        "      # 各単語の先頭と末尾の文字の番号は残し，それ以外の文字番号の順序をランダムに並び替える\n",
        "      target_str_list = [i for i in range(1, len(x_split[word_i])-1)]\n",
        "      random.shuffle(target_str_list)\n",
        "      target_str_list.insert(0,0)\n",
        "      target_str_list.append(len(x_split[word_i])-1)\n",
        "      # print(target_str_list)\n",
        "      str_shuffle = ''\n",
        "      for str_i in target_str_list:\n",
        "        str_shuffle = str_shuffle + x_split[word_i][str_i]\n",
        "      if word_i == len(x_split) - 1:\n",
        "        y = y + str_shuffle\n",
        "      else:\n",
        "        y = y + str_shuffle + ' '\n",
        "    else:\n",
        "      if word_i == len(x_split) - 1:\n",
        "        y = y + x_split[word_i]\n",
        "      else:\n",
        "        y = y + x_split[word_i] + ' '\n",
        "  return y"
      ],
      "execution_count": null,
      "outputs": []
    },
    {
      "cell_type": "code",
      "metadata": {
        "colab": {
          "base_uri": "https://localhost:8080/",
          "height": 35
        },
        "id": "k7MLksG2l0dU",
        "outputId": "d82e204e-fc7d-40b6-9a8c-83838b0b141c"
      },
      "source": [
        "Typoglycemia('I couldn’t believe that I could actually understand what I was reading : the phenomenal power of the human mind .')"
      ],
      "execution_count": null,
      "outputs": [
        {
          "output_type": "execute_result",
          "data": {
            "application/vnd.google.colaboratory.intrinsic+json": {
              "type": "string"
            },
            "text/plain": [
              "'I c’nuoldt bievlee that I could atlucaly udstearnnd what I was rinaedg : the pomeenhnal pwoer of the haumn mind .'"
            ]
          },
          "metadata": {},
          "execution_count": 236
        }
      ]
    }
  ]
}