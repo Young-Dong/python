{
  "nbformat": 4,
  "nbformat_minor": 0,
  "metadata": {
    "colab": {
      "name": "nlp100_2.ipynb",
      "provenance": [],
      "collapsed_sections": [],
      "authorship_tag": "ABX9TyP8CK+WjdyT5zdSvEoPbCwQ",
      "include_colab_link": true
    },
    "kernelspec": {
      "name": "python3",
      "display_name": "Python 3"
    },
    "language_info": {
      "name": "python"
    }
  },
  "cells": [
    {
      "cell_type": "markdown",
      "metadata": {
        "id": "view-in-github",
        "colab_type": "text"
      },
      "source": [
        "<a href=\"https://colab.research.google.com/github/Young-Dong/python/blob/master/nlp100_2.ipynb\" target=\"_parent\"><img src=\"https://colab.research.google.com/assets/colab-badge.svg\" alt=\"Open In Colab\"/></a>"
      ]
    },
    {
      "cell_type": "markdown",
      "metadata": {
        "id": "JpCqHHeSuBCo"
      },
      "source": [
        "**第2章: UNIXコマンド**<br>\n",
        "[popular-names.txt](https://nlp100.github.io/data/popular-names.txt)は，アメリカで生まれた赤ちゃんの「名前」「性別」「人数」「年」をタブ区切り形式で格納したファイルである．以下の処理を行うプログラムを作成し，popular-names.txtを入力ファイルとして実行せよ．さらに，同様の処理をUNIXコマンドでも実行し，プログラムの実行結果を確認せよ．"
      ]
    },
    {
      "cell_type": "markdown",
      "metadata": {
        "id": "jMvufBowuPsX"
      },
      "source": [
        "10. 行数のカウント<br>\n",
        "行数をカウントせよ．確認にはwcコマンドを用いよ．"
      ]
    },
    {
      "cell_type": "code",
      "metadata": {
        "colab": {
          "base_uri": "https://localhost:8080/"
        },
        "id": "wGIBoljnuTqn",
        "outputId": "2d61e34d-9942-4009-ae5b-d8a12b66cbb5"
      },
      "source": [
        "import pandas as pd\n",
        "url = 'https://nlp100.github.io/data/popular-names.txt'\n",
        "df = pd.read_csv(url, header=None)\n",
        "print(df.shape[0])"
      ],
      "execution_count": null,
      "outputs": [
        {
          "output_type": "stream",
          "name": "stdout",
          "text": [
            "2780\n"
          ]
        }
      ]
    },
    {
      "cell_type": "code",
      "metadata": {
        "colab": {
          "base_uri": "https://localhost:8080/",
          "height": 204
        },
        "id": "ABtPj6usw1JQ",
        "outputId": "67d351eb-4469-40d1-809b-a542d9c6b8f0"
      },
      "source": [
        "df.head()"
      ],
      "execution_count": null,
      "outputs": [
        {
          "output_type": "execute_result",
          "data": {
            "text/html": [
              "<div>\n",
              "<style scoped>\n",
              "    .dataframe tbody tr th:only-of-type {\n",
              "        vertical-align: middle;\n",
              "    }\n",
              "\n",
              "    .dataframe tbody tr th {\n",
              "        vertical-align: top;\n",
              "    }\n",
              "\n",
              "    .dataframe thead th {\n",
              "        text-align: right;\n",
              "    }\n",
              "</style>\n",
              "<table border=\"1\" class=\"dataframe\">\n",
              "  <thead>\n",
              "    <tr style=\"text-align: right;\">\n",
              "      <th></th>\n",
              "      <th>0</th>\n",
              "    </tr>\n",
              "  </thead>\n",
              "  <tbody>\n",
              "    <tr>\n",
              "      <th>0</th>\n",
              "      <td>Mary\\tF\\t7065\\t1880</td>\n",
              "    </tr>\n",
              "    <tr>\n",
              "      <th>1</th>\n",
              "      <td>Anna\\tF\\t2604\\t1880</td>\n",
              "    </tr>\n",
              "    <tr>\n",
              "      <th>2</th>\n",
              "      <td>Emma\\tF\\t2003\\t1880</td>\n",
              "    </tr>\n",
              "    <tr>\n",
              "      <th>3</th>\n",
              "      <td>Elizabeth\\tF\\t1939\\t1880</td>\n",
              "    </tr>\n",
              "    <tr>\n",
              "      <th>4</th>\n",
              "      <td>Minnie\\tF\\t1746\\t1880</td>\n",
              "    </tr>\n",
              "  </tbody>\n",
              "</table>\n",
              "</div>"
            ],
            "text/plain": [
              "                          0\n",
              "0       Mary\\tF\\t7065\\t1880\n",
              "1       Anna\\tF\\t2604\\t1880\n",
              "2       Emma\\tF\\t2003\\t1880\n",
              "3  Elizabeth\\tF\\t1939\\t1880\n",
              "4     Minnie\\tF\\t1746\\t1880"
            ]
          },
          "metadata": {},
          "execution_count": 28
        }
      ]
    },
    {
      "cell_type": "markdown",
      "metadata": {
        "id": "oSalK1tmwfoe"
      },
      "source": [
        "11. タブをスペースに置換<br>\n",
        "タブ1文字につきスペース1文字に置換せよ．確認にはsedコマンド，trコマンド，もしくはexpandコマンドを用いよ．"
      ]
    },
    {
      "cell_type": "code",
      "metadata": {
        "colab": {
          "base_uri": "https://localhost:8080/",
          "height": 204
        },
        "id": "0HjDhqgDwhdL",
        "outputId": "6d611e59-5dc8-4597-a5a4-34050e03eee2"
      },
      "source": [
        "df[0] = [i.replace('\\t',' ') for i in df[0]]\n",
        "df.head()"
      ],
      "execution_count": null,
      "outputs": [
        {
          "output_type": "execute_result",
          "data": {
            "text/html": [
              "<div>\n",
              "<style scoped>\n",
              "    .dataframe tbody tr th:only-of-type {\n",
              "        vertical-align: middle;\n",
              "    }\n",
              "\n",
              "    .dataframe tbody tr th {\n",
              "        vertical-align: top;\n",
              "    }\n",
              "\n",
              "    .dataframe thead th {\n",
              "        text-align: right;\n",
              "    }\n",
              "</style>\n",
              "<table border=\"1\" class=\"dataframe\">\n",
              "  <thead>\n",
              "    <tr style=\"text-align: right;\">\n",
              "      <th></th>\n",
              "      <th>0</th>\n",
              "    </tr>\n",
              "  </thead>\n",
              "  <tbody>\n",
              "    <tr>\n",
              "      <th>0</th>\n",
              "      <td>Mary F 7065 1880</td>\n",
              "    </tr>\n",
              "    <tr>\n",
              "      <th>1</th>\n",
              "      <td>Anna F 2604 1880</td>\n",
              "    </tr>\n",
              "    <tr>\n",
              "      <th>2</th>\n",
              "      <td>Emma F 2003 1880</td>\n",
              "    </tr>\n",
              "    <tr>\n",
              "      <th>3</th>\n",
              "      <td>Elizabeth F 1939 1880</td>\n",
              "    </tr>\n",
              "    <tr>\n",
              "      <th>4</th>\n",
              "      <td>Minnie F 1746 1880</td>\n",
              "    </tr>\n",
              "  </tbody>\n",
              "</table>\n",
              "</div>"
            ],
            "text/plain": [
              "                       0\n",
              "0       Mary F 7065 1880\n",
              "1       Anna F 2604 1880\n",
              "2       Emma F 2003 1880\n",
              "3  Elizabeth F 1939 1880\n",
              "4     Minnie F 1746 1880"
            ]
          },
          "metadata": {},
          "execution_count": 29
        }
      ]
    },
    {
      "cell_type": "markdown",
      "metadata": {
        "id": "lWNHtK8Z1Z_Q"
      },
      "source": [
        "12. 1列目をcol1.txtに，2列目をcol2.txtに保存<br>\n",
        "各行の1列目だけを抜き出したものをcol1.txtに，2列目だけを抜き出したものをcol2.txtとしてファイルに保存せよ．確認にはcutコマンドを用いよ．"
      ]
    },
    {
      "cell_type": "code",
      "metadata": {
        "colab": {
          "base_uri": "https://localhost:8080/"
        },
        "id": "J0p35qYsxFkq",
        "outputId": "2315b785-709f-4274-f990-7036f6bb9d2b"
      },
      "source": [
        "df = pd.read_csv(url, sep='\\t', header=None)\n",
        "df[0].to_csv('col1.txt', index=False)\n",
        "df[1].to_csv('col2.txt', index=False)\n",
        "df[1].head()"
      ],
      "execution_count": null,
      "outputs": [
        {
          "output_type": "execute_result",
          "data": {
            "text/plain": [
              "0    F\n",
              "1    F\n",
              "2    F\n",
              "3    F\n",
              "4    F\n",
              "Name: 1, dtype: object"
            ]
          },
          "metadata": {},
          "execution_count": 30
        }
      ]
    },
    {
      "cell_type": "markdown",
      "metadata": {
        "id": "7HFhu6Sh2oce"
      },
      "source": [
        "13. col1.txtとcol2.txtをマージ<br>\n",
        "12で作ったcol1.txtとcol2.txtを結合し，元のファイルの1列目と2列目をタブ区切りで並べたテキストファイルを作成せよ．確認にはpasteコマンドを用いよ．"
      ]
    },
    {
      "cell_type": "code",
      "metadata": {
        "colab": {
          "base_uri": "https://localhost:8080/",
          "height": 204
        },
        "id": "pKLXITtw1js7",
        "outputId": "2f2b6916-4e3d-4591-e5d8-fd092c62967c"
      },
      "source": [
        "df1 = pd.read_csv('col1.txt')\n",
        "df2 = pd.read_csv('col2.txt')\n",
        "df0 = pd.concat([df1, df2], axis=1)\n",
        "df0.head()"
      ],
      "execution_count": null,
      "outputs": [
        {
          "output_type": "execute_result",
          "data": {
            "text/html": [
              "<div>\n",
              "<style scoped>\n",
              "    .dataframe tbody tr th:only-of-type {\n",
              "        vertical-align: middle;\n",
              "    }\n",
              "\n",
              "    .dataframe tbody tr th {\n",
              "        vertical-align: top;\n",
              "    }\n",
              "\n",
              "    .dataframe thead th {\n",
              "        text-align: right;\n",
              "    }\n",
              "</style>\n",
              "<table border=\"1\" class=\"dataframe\">\n",
              "  <thead>\n",
              "    <tr style=\"text-align: right;\">\n",
              "      <th></th>\n",
              "      <th>0</th>\n",
              "      <th>1</th>\n",
              "    </tr>\n",
              "  </thead>\n",
              "  <tbody>\n",
              "    <tr>\n",
              "      <th>0</th>\n",
              "      <td>Mary</td>\n",
              "      <td>F</td>\n",
              "    </tr>\n",
              "    <tr>\n",
              "      <th>1</th>\n",
              "      <td>Anna</td>\n",
              "      <td>F</td>\n",
              "    </tr>\n",
              "    <tr>\n",
              "      <th>2</th>\n",
              "      <td>Emma</td>\n",
              "      <td>F</td>\n",
              "    </tr>\n",
              "    <tr>\n",
              "      <th>3</th>\n",
              "      <td>Elizabeth</td>\n",
              "      <td>F</td>\n",
              "    </tr>\n",
              "    <tr>\n",
              "      <th>4</th>\n",
              "      <td>Minnie</td>\n",
              "      <td>F</td>\n",
              "    </tr>\n",
              "  </tbody>\n",
              "</table>\n",
              "</div>"
            ],
            "text/plain": [
              "           0  1\n",
              "0       Mary  F\n",
              "1       Anna  F\n",
              "2       Emma  F\n",
              "3  Elizabeth  F\n",
              "4     Minnie  F"
            ]
          },
          "metadata": {},
          "execution_count": 31
        }
      ]
    },
    {
      "cell_type": "markdown",
      "metadata": {
        "id": "YzjJaRTQ4Wfb"
      },
      "source": [
        "14. 先頭からN行を出力<br>\n",
        "自然数Nをコマンドライン引数などの手段で受け取り，入力のうち先頭のN行だけを表示せよ．確認にはheadコマンドを用いよ．"
      ]
    },
    {
      "cell_type": "code",
      "metadata": {
        "colab": {
          "base_uri": "https://localhost:8080/",
          "height": 111
        },
        "id": "dvCCw-fU3Er9",
        "outputId": "49c268db-698c-4ffd-cbd0-4a95c080058a"
      },
      "source": [
        "def row_head(df, n):\n",
        "  return df.head(n)\n",
        "row_head(df, 2)"
      ],
      "execution_count": null,
      "outputs": [
        {
          "output_type": "execute_result",
          "data": {
            "text/html": [
              "<div>\n",
              "<style scoped>\n",
              "    .dataframe tbody tr th:only-of-type {\n",
              "        vertical-align: middle;\n",
              "    }\n",
              "\n",
              "    .dataframe tbody tr th {\n",
              "        vertical-align: top;\n",
              "    }\n",
              "\n",
              "    .dataframe thead th {\n",
              "        text-align: right;\n",
              "    }\n",
              "</style>\n",
              "<table border=\"1\" class=\"dataframe\">\n",
              "  <thead>\n",
              "    <tr style=\"text-align: right;\">\n",
              "      <th></th>\n",
              "      <th>0</th>\n",
              "      <th>1</th>\n",
              "      <th>2</th>\n",
              "      <th>3</th>\n",
              "    </tr>\n",
              "  </thead>\n",
              "  <tbody>\n",
              "    <tr>\n",
              "      <th>0</th>\n",
              "      <td>Mary</td>\n",
              "      <td>F</td>\n",
              "      <td>7065</td>\n",
              "      <td>1880</td>\n",
              "    </tr>\n",
              "    <tr>\n",
              "      <th>1</th>\n",
              "      <td>Anna</td>\n",
              "      <td>F</td>\n",
              "      <td>2604</td>\n",
              "      <td>1880</td>\n",
              "    </tr>\n",
              "  </tbody>\n",
              "</table>\n",
              "</div>"
            ],
            "text/plain": [
              "      0  1     2     3\n",
              "0  Mary  F  7065  1880\n",
              "1  Anna  F  2604  1880"
            ]
          },
          "metadata": {},
          "execution_count": 32
        }
      ]
    },
    {
      "cell_type": "markdown",
      "metadata": {
        "id": "Y0YydUMB5gLk"
      },
      "source": [
        "15. 末尾のN行を出力<br>\n",
        "自然数Nをコマンドライン引数などの手段で受け取り，入力のうち末尾のN行だけを表示せよ．確認にはtailコマンドを用いよ．"
      ]
    },
    {
      "cell_type": "code",
      "metadata": {
        "colab": {
          "base_uri": "https://localhost:8080/",
          "height": 111
        },
        "id": "fbMTY2Kg4qv8",
        "outputId": "bfa4606a-a1b3-483e-87dc-a0e31d496900"
      },
      "source": [
        "def row_tail(df, n):\n",
        "  return df.tail(n)\n",
        "row_tail(df, 2)"
      ],
      "execution_count": null,
      "outputs": [
        {
          "output_type": "execute_result",
          "data": {
            "text/html": [
              "<div>\n",
              "<style scoped>\n",
              "    .dataframe tbody tr th:only-of-type {\n",
              "        vertical-align: middle;\n",
              "    }\n",
              "\n",
              "    .dataframe tbody tr th {\n",
              "        vertical-align: top;\n",
              "    }\n",
              "\n",
              "    .dataframe thead th {\n",
              "        text-align: right;\n",
              "    }\n",
              "</style>\n",
              "<table border=\"1\" class=\"dataframe\">\n",
              "  <thead>\n",
              "    <tr style=\"text-align: right;\">\n",
              "      <th></th>\n",
              "      <th>0</th>\n",
              "      <th>1</th>\n",
              "      <th>2</th>\n",
              "      <th>3</th>\n",
              "    </tr>\n",
              "  </thead>\n",
              "  <tbody>\n",
              "    <tr>\n",
              "      <th>2778</th>\n",
              "      <td>Mason</td>\n",
              "      <td>M</td>\n",
              "      <td>12435</td>\n",
              "      <td>2018</td>\n",
              "    </tr>\n",
              "    <tr>\n",
              "      <th>2779</th>\n",
              "      <td>Logan</td>\n",
              "      <td>M</td>\n",
              "      <td>12352</td>\n",
              "      <td>2018</td>\n",
              "    </tr>\n",
              "  </tbody>\n",
              "</table>\n",
              "</div>"
            ],
            "text/plain": [
              "          0  1      2     3\n",
              "2778  Mason  M  12435  2018\n",
              "2779  Logan  M  12352  2018"
            ]
          },
          "metadata": {},
          "execution_count": 33
        }
      ]
    },
    {
      "cell_type": "markdown",
      "metadata": {
        "id": "vXNNHjvc6s2S"
      },
      "source": [
        "16. ファイルをN分割する<br>\n",
        "自然数Nをコマンドライン引数などの手段で受け取り，入力のファイルを行単位でN分割せよ．同様の処理をsplitコマンドで実現せよ．"
      ]
    },
    {
      "cell_type": "code",
      "metadata": {
        "colab": {
          "base_uri": "https://localhost:8080/"
        },
        "id": "WpZ_19Jv5wLA",
        "outputId": "93e176e1-af4b-434f-fced-f7a26fc9a7ab"
      },
      "source": [
        "def row_cut(df, n):\n",
        "  row_n = int(df.shape[0]/n)\n",
        "  for i in range(n):\n",
        "    locals()['df_' + str(i)] = df[i*row_n : (i+1)*row_n]\n",
        "    print(locals()['df_' + str(i)])\n",
        "row_cut(df, 2)"
      ],
      "execution_count": null,
      "outputs": [
        {
          "output_type": "stream",
          "name": "stdout",
          "text": [
            "              0  1      2     3\n",
            "0          Mary  F   7065  1880\n",
            "1          Anna  F   2604  1880\n",
            "2          Emma  F   2003  1880\n",
            "3     Elizabeth  F   1939  1880\n",
            "4        Minnie  F   1746  1880\n",
            "...         ... ..    ...   ...\n",
            "1385     Sandra  F  30642  1949\n",
            "1386      Nancy  F  29246  1949\n",
            "1387      Carol  F  26783  1949\n",
            "1388   Kathleen  F  26354  1949\n",
            "1389     Sharon  F  25711  1949\n",
            "\n",
            "[1390 rows x 4 columns]\n",
            "             0  1      2     3\n",
            "1390     James  M  86857  1949\n",
            "1391    Robert  M  83872  1949\n",
            "1392      John  M  81161  1949\n",
            "1393   William  M  61501  1949\n",
            "1394   Michael  M  60046  1949\n",
            "...        ... ..    ...   ...\n",
            "2775  Benjamin  M  13381  2018\n",
            "2776    Elijah  M  12886  2018\n",
            "2777     Lucas  M  12585  2018\n",
            "2778     Mason  M  12435  2018\n",
            "2779     Logan  M  12352  2018\n",
            "\n",
            "[1390 rows x 4 columns]\n"
          ]
        }
      ]
    },
    {
      "cell_type": "markdown",
      "metadata": {
        "id": "qc0NtzisNj-X"
      },
      "source": [
        "17. １列目の文字列の異なり<br>\n",
        "1列目の文字列の種類（異なる文字列の集合）を求めよ．確認にはcut, sort, uniqコマンドを用いよ．"
      ]
    },
    {
      "cell_type": "code",
      "metadata": {
        "colab": {
          "base_uri": "https://localhost:8080/"
        },
        "id": "NO3sq2R-Idht",
        "outputId": "17b5eb35-a5d7-4e72-8b19-ef8f1c1fd28f"
      },
      "source": [
        "print(len(set(df.iloc[:,0])))"
      ],
      "execution_count": null,
      "outputs": [
        {
          "output_type": "stream",
          "name": "stdout",
          "text": [
            "136\n"
          ]
        }
      ]
    },
    {
      "cell_type": "markdown",
      "metadata": {
        "id": "RQQRVPSPphcl"
      },
      "source": [
        "18. 以第三列为指标对各行进行降序排序<br>\n",
        "在不改变每行内容的前提下，按第三列的数值大小对所有行降序排序。使用sort命令确认结果，但程序的运行结果无需与其完全一致。"
      ]
    },
    {
      "cell_type": "code",
      "metadata": {
        "id": "eWGXMxXMInh0",
        "colab": {
          "base_uri": "https://localhost:8080/",
          "height": 419
        },
        "outputId": "8143949b-71c8-494a-c90b-00c2373d4113"
      },
      "source": [
        "df.sort_values(2, ascending=False)"
      ],
      "execution_count": null,
      "outputs": [
        {
          "output_type": "execute_result",
          "data": {
            "text/html": [
              "<div>\n",
              "<style scoped>\n",
              "    .dataframe tbody tr th:only-of-type {\n",
              "        vertical-align: middle;\n",
              "    }\n",
              "\n",
              "    .dataframe tbody tr th {\n",
              "        vertical-align: top;\n",
              "    }\n",
              "\n",
              "    .dataframe thead th {\n",
              "        text-align: right;\n",
              "    }\n",
              "</style>\n",
              "<table border=\"1\" class=\"dataframe\">\n",
              "  <thead>\n",
              "    <tr style=\"text-align: right;\">\n",
              "      <th></th>\n",
              "      <th>0</th>\n",
              "      <th>1</th>\n",
              "      <th>2</th>\n",
              "      <th>3</th>\n",
              "    </tr>\n",
              "  </thead>\n",
              "  <tbody>\n",
              "    <tr>\n",
              "      <th>1340</th>\n",
              "      <td>Linda</td>\n",
              "      <td>F</td>\n",
              "      <td>99689</td>\n",
              "      <td>1947</td>\n",
              "    </tr>\n",
              "    <tr>\n",
              "      <th>1360</th>\n",
              "      <td>Linda</td>\n",
              "      <td>F</td>\n",
              "      <td>96211</td>\n",
              "      <td>1948</td>\n",
              "    </tr>\n",
              "    <tr>\n",
              "      <th>1350</th>\n",
              "      <td>James</td>\n",
              "      <td>M</td>\n",
              "      <td>94757</td>\n",
              "      <td>1947</td>\n",
              "    </tr>\n",
              "    <tr>\n",
              "      <th>1550</th>\n",
              "      <td>Michael</td>\n",
              "      <td>M</td>\n",
              "      <td>92704</td>\n",
              "      <td>1957</td>\n",
              "    </tr>\n",
              "    <tr>\n",
              "      <th>1351</th>\n",
              "      <td>Robert</td>\n",
              "      <td>M</td>\n",
              "      <td>91640</td>\n",
              "      <td>1947</td>\n",
              "    </tr>\n",
              "    <tr>\n",
              "      <th>...</th>\n",
              "      <td>...</td>\n",
              "      <td>...</td>\n",
              "      <td>...</td>\n",
              "      <td>...</td>\n",
              "    </tr>\n",
              "    <tr>\n",
              "      <th>27</th>\n",
              "      <td>Annie</td>\n",
              "      <td>F</td>\n",
              "      <td>1326</td>\n",
              "      <td>1881</td>\n",
              "    </tr>\n",
              "    <tr>\n",
              "      <th>28</th>\n",
              "      <td>Bertha</td>\n",
              "      <td>F</td>\n",
              "      <td>1324</td>\n",
              "      <td>1881</td>\n",
              "    </tr>\n",
              "    <tr>\n",
              "      <th>8</th>\n",
              "      <td>Bertha</td>\n",
              "      <td>F</td>\n",
              "      <td>1320</td>\n",
              "      <td>1880</td>\n",
              "    </tr>\n",
              "    <tr>\n",
              "      <th>29</th>\n",
              "      <td>Alice</td>\n",
              "      <td>F</td>\n",
              "      <td>1308</td>\n",
              "      <td>1881</td>\n",
              "    </tr>\n",
              "    <tr>\n",
              "      <th>9</th>\n",
              "      <td>Sarah</td>\n",
              "      <td>F</td>\n",
              "      <td>1288</td>\n",
              "      <td>1880</td>\n",
              "    </tr>\n",
              "  </tbody>\n",
              "</table>\n",
              "<p>2780 rows × 4 columns</p>\n",
              "</div>"
            ],
            "text/plain": [
              "            0  1      2     3\n",
              "1340    Linda  F  99689  1947\n",
              "1360    Linda  F  96211  1948\n",
              "1350    James  M  94757  1947\n",
              "1550  Michael  M  92704  1957\n",
              "1351   Robert  M  91640  1947\n",
              "...       ... ..    ...   ...\n",
              "27      Annie  F   1326  1881\n",
              "28     Bertha  F   1324  1881\n",
              "8      Bertha  F   1320  1880\n",
              "29      Alice  F   1308  1881\n",
              "9       Sarah  F   1288  1880\n",
              "\n",
              "[2780 rows x 4 columns]"
            ]
          },
          "metadata": {},
          "execution_count": 38
        }
      ]
    },
    {
      "cell_type": "markdown",
      "metadata": {
        "id": "ovY_rvCtqYMJ"
      },
      "source": [
        "19. 降序排列第一列各字符串的出现频率<br>\n",
        "求各行第一列中每种字符串的出现频率，并按该频率将其降序排列。使用cut, sort 与 uniq 命令确认结果。"
      ]
    },
    {
      "cell_type": "code",
      "metadata": {
        "colab": {
          "base_uri": "https://localhost:8080/"
        },
        "id": "cwU_w-V9kcuE",
        "outputId": "148ac543-e01c-434b-d576-5cfd66cb024d"
      },
      "source": [
        "df.iloc[:,0].value_counts()"
      ],
      "execution_count": null,
      "outputs": [
        {
          "output_type": "execute_result",
          "data": {
            "text/plain": [
              "James      118\n",
              "William    111\n",
              "Robert     108\n",
              "John       108\n",
              "Mary        92\n",
              "          ... \n",
              "Kelly        1\n",
              "Crystal      1\n",
              "Walter       1\n",
              "Carolyn      1\n",
              "Lori         1\n",
              "Name: 0, Length: 136, dtype: int64"
            ]
          },
          "metadata": {},
          "execution_count": 40
        }
      ]
    }
  ]
}